{
  "nbformat": 4,
  "nbformat_minor": 0,
  "metadata": {
    "colab": {
      "provenance": []
    },
    "kernelspec": {
      "name": "python3",
      "display_name": "Python 3"
    },
    "language_info": {
      "name": "python"
    }
  },
  "cells": [
    {
      "cell_type": "markdown",
      "source": [
        "## **Data Toolkit**"
      ],
      "metadata": {
        "id": "0xdAhZNrPNL1"
      }
    },
    {
      "cell_type": "markdown",
      "source": [
        "**Q1. What is NumPy, and why is it widely used in Python?**\n",
        "\n",
        "\n",
        "* NumPy (short for Numerical Python) is a fundamental package for numerical computing in Python. It provides support for large, multi-dimensional arrays and matrices, along with a collection of mathematical functions to operate on these arrays efficiently.\n",
        "\n",
        "* **Why NumPy is Widely Used in Python:**\n",
        "1. Performance: NumPy is implemented in C, which makes array operations significantly faster than equivalent Python code using lists or loops.\n",
        "\n",
        "2. N-Dimensional Arrays: The core object in NumPy is the ndarray, which allows for efficient storage and manipulation of numerical data in any number of dimensions.\n",
        "\n",
        "3. Broadcasting: NumPy supports broadcasting, a powerful feature that lets you perform arithmetic operations on arrays of different shapes in an intuitive way without explicit loops.\n",
        "\n",
        "4. Comprehensive Math Functions: It offers a wide range of mathematical functions, including linear algebra, statistical operations, Fourier transforms, and more.\n",
        "\n",
        "5. Integration with Other Libraries: Many scientific and machine learning libraries (e.g., SciPy, Pandas, TensorFlow, scikit-learn) are built on top of or integrate closely with NumPy.\n",
        "\n",
        "6. Memory Efficiency: NumPy arrays consume less memory and are more efficient than Python’s built-in data structures like lists for numerical data.\n",
        "\n",
        "7. Ease of Use: NumPy's syntax is clear and concise, making it easy for developers and researchers to write clean, readable code.\n",
        "\n"
      ],
      "metadata": {
        "id": "uWgp9xotQLmF"
      }
    },
    {
      "cell_type": "markdown",
      "source": [
        "**Q2. How does broadcasting work in NumPy?**\n",
        "\n",
        "\n",
        "*  Broadcasting in NumPy allows operations between arrays of different shapes in a way that avoids making unnecessary copies of data. It’s a powerful concept that enables element-wise arithmetic without explicitly reshaping arrays.\n",
        "\n",
        "\n",
        "* **How Broadcasting Works**\n",
        "* When performing operations on two arrays, NumPy compares their shapes element-wise, starting from the trailing dimensions (i.e., from the right). It applies the following rules:\n",
        "\n",
        "1. If dimensions match, no broadcasting is needed.\n",
        "\n",
        "2. If one dimension is 1, it is stretched to match the other.\n",
        "\n",
        "3. If dimensions don’t match and neither is 1, NumPy throws an error."
      ],
      "metadata": {
        "id": "XiUqtnk9So2n"
      }
    },
    {
      "cell_type": "markdown",
      "source": [
        "**Q3. What is a Pandas DataFrame?**\n",
        "\n",
        "*  Pandas DataFrame is a two-dimensional, labeled data structure in Python, similar to a table in a database, an Excel spreadsheet, or a data frame in R. It's one of the core data structures in the Pandas library, which is widely used for data manipulation and analysis in Python.\n",
        "* **Key Features:**\n",
        "* Rows and Columns: It has labeled axes — rows (index) and columns (columns).\n",
        "\n",
        "* Heterogeneous data: Each column can contain different data types (e.g., integers, strings, floats).\n",
        "\n",
        "* Missing data handling: Supports NaN (Not a Number) values.\n",
        "\n",
        "* Powerful data manipulation: Offers tools for filtering, aggregating, reshaping, merging, and more.\n",
        "     * Example:\n",
        "\n",
        "        \n",
        "      import pandas as pd\n",
        "\n",
        "      data = {\n",
        "          'Name': ['Alice', 'Bob', 'Charlie'],\n",
        "          'Age': [25, 30, 35],\n",
        "          'City': ['New York', 'Paris', 'London']\n",
        "      }\n",
        "\n",
        "      df = pd.DataFrame(data)\n",
        "      print(df)"
      ],
      "metadata": {
        "id": "dtxzjT0TdAKN"
      }
    },
    {
      "cell_type": "markdown",
      "source": [
        "**Q4. Explain the use of the groupby() method in Pandas?**\n",
        "\n",
        "\n",
        "* The groupby() method in Pandas is used to split data into groups based on one or more keys (columns), apply a function (like sum, mean, etc.), and then combine the results. This is known as the \"split-apply-combine\" strategy.\n",
        "\n",
        "* **How groupby() Works**\n",
        "* The groupby() operation follows a three-step process:​\n",
        "\n",
        "1. Splitting: The data is divided into groups based on the values in one or more columns.\n",
        "\n",
        "2. Applying: A function is applied to each group independently. This can be an aggregation (e.g., sum, mean), transformation, or filtering function.\n",
        "\n",
        "3. Combining: The results of the function applications are combined into a new DataFrame or Series.\n",
        "\n",
        "    * Example\n",
        "\n",
        "\n",
        "    import pandas as pd\n",
        "\n",
        "    data = {\n",
        "        'Department': ['HR', 'HR', 'IT', 'IT', 'Finance'],\n",
        "        'Employee': ['Alice', 'Bob', 'Charlie', 'David', 'Eve'],\n",
        "        'Salary': [50000, 60000, 70000, 80000, 90000]\n",
        "    }\n",
        "\n",
        "    df = pd.DataFrame(data)"
      ],
      "metadata": {
        "id": "Qkii6sNqg-DK"
      }
    },
    {
      "cell_type": "markdown",
      "source": [
        "**Q5. Why is Seaborn preferred for statistical visualizations?**\n",
        "\n",
        "\n",
        "* Seaborn is a popular data visualization library in Python that is built on top of Matplotlib. It is specifically designed for statistical visualizations, making it more intuitive and powerful for working with complex datasets compared to basic Matplotlib. Here’s why Seaborn is preferred for statistical visualizations:\n",
        "1. **High-Level Interface**\n",
        "* Seaborn provides a higher-level interface for creating complex statistical plots with minimal code. While Matplotlib requires more effort to configure plots, Seaborn allows you to create sophisticated visualizations in a simpler and cleaner manner.\n",
        " * Example:\n",
        "\n",
        "\n",
        "     import seaborn as sns\n",
        "    import matplotlib.pyplot as plt\n",
        "\n",
        "    sns.lmplot(x=\"x_column\", y=\"y_column\", data=df)\n",
        "    plt.show()\n",
        "2. **Built-In Statistical Plots**\n",
        "* Seaborn includes functions specifically designed for statistical visualization, such as:\n",
        "\n",
        "* Distribution plots (sns.histplot, sns.kdeplot)\n",
        "\n",
        "* Regression plots (sns.regplot, sns.lmplot)\n",
        "\n",
        "* Categorical plots (sns.boxplot, sns.violinplot, sns.barplot)\n",
        "\n",
        "* Pair plots (sns.pairplot)\n",
        "These functions handle complex tasks like fitting regression lines or computing confidence intervals automatically.\n",
        "\n",
        "3. **Better Default Aesthetics**\n",
        "* Seaborn comes with beautiful default themes and color palettes, making it easier to create polished visualizations that are more aesthetically pleasing than Matplotlib’s default settings.\n",
        "\n",
        "    * Example:\n",
        "          sns.set(style=\"whitegrid\")\n",
        "          sns.boxplot(x=\"category\", y=\"value\", data=df)\n",
        "4. **Integration with Pandas DataFrames**\n",
        "* Seaborn integrates seamlessly with Pandas DataFrames, so you can directly plot columns from a DataFrame without needing to extract or reshape the data first.\n",
        "  * Example:\n",
        "\n",
        "        sns.barplot(x=\"Category\", y=\"Value\", data=df)\n",
        "\n",
        "5. **Complex Visualizations Made Easy**\n",
        "* Seaborn supports complex visualizations like:\n",
        "\n",
        "* Facet grids: Automatically create multi-panel plots to display data subsets.\n",
        "\n",
        "* Pair plots: Visualize relationships between multiple variables in a dataset.\n",
        "\n",
        "* Heatmaps: Plot matrix-like data, including correlation matrices.\n",
        "\n",
        "   * Example:\n",
        "         \n",
        "         sns.pairplot(df)\n",
        "\n",
        "6. **Automatic Handling of Statistical Details**\n",
        "* Seaborn automatically handles some statistical elements of visualizations. For instance, it can:\n",
        "\n",
        "* Plot confidence intervals.\n",
        "\n",
        "* Show regression lines with scatter plots.\n",
        "\n",
        "* Automatically compute and display correlation coefficients.\n",
        "\n",
        "    * Example\n",
        "\n",
        "          sns.regplot(x=\"x_column\", y=\"y_column\", data=df)\n",
        "\n",
        "7. **Built-In Functions for Statistical Analysis**\n",
        "* Seaborn comes with many statistical functions (like sns.heatmap(), sns.barplot(), sns.boxplot()) that help visualize important statistical properties like distributions, relationships, and comparisons."
      ],
      "metadata": {
        "id": "HdoxRd1ZlykZ"
      }
    },
    {
      "cell_type": "markdown",
      "source": [
        "**Q6. What are the differences between NumPy arrays and Python lists?**\n",
        "\n",
        "\n",
        "*  NumPy arrays and Python lists are both used to store collections of data, but they have significant differences in terms of functionality, performance, and usage:\n",
        "\n",
        "* **Feature** .............................................................\t                 **NumPy Array** .............................................................. **Python List**\n",
        "\n",
        "* Performance ................................................ High (optimized C routines) ............................................... Slower\n",
        "* Memory Efficiency .......................................... Efficient (fixed type) ........................................................ Less efficient\n",
        "* Data Type ........................................................\tHomogeneous ............................................................. Heterogeneous\n",
        "* Vectorized Operations ............................................. Yes ........................................................................ No\n",
        "* Multidimensional Support .......................................... Native .................................................................\tNested lists (manual)\n",
        "* Indexing & Slicing ............................................... Advanced ........................................................................... Basic\n",
        "\n"
      ],
      "metadata": {
        "id": "Ur088A7JtA1e"
      }
    },
    {
      "cell_type": "markdown",
      "source": [
        "**Q7. What is a heatmap, and when should it be used?**\n",
        "\n",
        "\n",
        "* Heatmap is a data visualization technique that uses color gradients to represent the magnitude of values in a matrix or 2D dataset. Each cell in the grid is colored based on its value, making it easy to spot patterns, trends, or anomalies.\n",
        "\n",
        "* **When to Use a Heatmap:**\n",
        "\n",
        "1. **Visualizing Correlation Matrices**\n",
        " * To quickly see relationships between variables (e.g., in feature selection for machine learning).\n",
        "\n",
        "2. **Exploring Missing Data**\n",
        " * To identify where missing or null values are concentrated in a dataset.\n",
        "\n",
        "3. **Analyzing Time-Series or Behavior**\n",
        "  * For showing usage/activity over time across categories (e.g., website traffic per hour/day).\n",
        "\n",
        "4. **Representing Confusion Matrices**\n",
        " * In classification problems, to show model performance.\n",
        "\n",
        "5. **Highlighting Highs and Lows in a Grid**\n",
        " * For instance, in a pivot table showing sales across regions and months.\n",
        "\n",
        "* Example Use Case:\n",
        "\n",
        "      import seaborn as sns\n",
        "      import matplotlib.pyplot as plt\n",
        "      import numpy as np\n",
        "\n",
        "    # Sample correlation matrix\n",
        "      data = np.random.rand(10, 10)\n",
        "      sns.heatmap(data, cmap=\"YlGnBu\")\n",
        "      plt.show()"
      ],
      "metadata": {
        "id": "6-TUsW42BWeb"
      }
    },
    {
      "cell_type": "markdown",
      "source": [
        "**Q8. What does the term “vectorized operation” mean in NumPy?**\n",
        "\n",
        "* In NumPy, a vectorized operation refers to performing operations on entire arrays (vectors, matrices, etc.) without using explicit loops (like for or while loops). Instead, operations are applied directly to whole arrays using optimized C-based implementations under the hood.\n",
        "*   List item\n",
        "\n",
        "* Example\n",
        "      import numpy as np\n",
        "\n",
        "      a = np.array([1, 2, 3])\n",
        "      b = np.array([4, 5, 6])\n",
        "\n",
        "    # Vectorized operation\n",
        "      c = a + b  # Output: array([5, 7, 9])\n",
        "* This is equivalent to:\n",
        "   \n",
        "    # Non-vectorized (loop-based) version\n",
        "      c = []\n",
        "      for i in range(len(a)):\n",
        "          c.append(a[i] + b[i])\n",
        "\n",
        "* **Benefits of Vectorized Operations:**\n",
        " * Performance: Much faster due to underlying C optimizations.\n",
        "\n",
        " * Readability: Cleaner and more expressive code.\n",
        "\n",
        "  * Fewer bugs: Less manual indexing and looping reduces errors."
      ],
      "metadata": {
        "id": "xzzWAIYDDVor"
      }
    },
    {
      "cell_type": "markdown",
      "source": [
        "**Q9. How does Matplotlib differ from Plotly?**\n",
        "\n",
        "\n",
        "* **Key Differences Between Matplotlib and Plotly**\n",
        "\n",
        "* **Feature** ..............................................................\t**Matplotlib** ..........................................................................................\t**Plotly**\n",
        "* Type .............................................................\tStatic plotting library ............................................................\tInteractive plotting library\n",
        "* Interactivity .................................. Limited\n",
        " (requires extra setup like widgets) ..................................\tBuilt-in (zoom, pan, hover, tooltips, etc.)\n",
        "* Ease of Use ................................................. Steeper learning curve ............................................. Easier for interactive and high-level plots\n",
        "* Customization ........................................... Very flexible, low-level control ....................................... High-level but less control over internals\n",
        "* Performance .................................................... Fast for static plots .................................................. Slower for very large datasets\n",
        "* Integration..........................\tGood with Jupyter, scripts, and publications ............................ Best in web apps, dashboards (e.g., Dash)\n",
        "* Output Formats ............................................\tPNG, PDF, SVG, etc. (static images) .................................................\tHTML, JavaScript (interactive web content)\n",
        "* 3D Plotting .................................................. Basic (via mpl_toolkits.mplot3d) ................................................\tAdvanced and interactive 3D plots\n",
        "* Best For ....................................................... Scientific papers, static reports ............................................... Dashboards, web-based data exploration\n",
        "\n",
        "* **Matplotlib:**\n",
        "  * Example:\n",
        "\n",
        "        import matplotlib.pyplot as plt\n",
        "\n",
        "        plt.plot([1, 2, 3], [4, 5, 6])\n",
        "        plt.title(\"Matplotlib Plot\")\n",
        "        plt.show()\n",
        "\n",
        "* **Plotly:**\n",
        "  * Example:\n",
        "\n",
        "        import plotly.express as px\n",
        "\n",
        "        fig = px.line(x=[1, 2, 3], y=[4, 5, 6], title=\"Plotly Plot\")\n",
        "        fig.show()\n",
        "\n"
      ],
      "metadata": {
        "id": "2B11Q0pZGPIu"
      }
    },
    {
      "cell_type": "markdown",
      "source": [
        "**Q10. What is the significance of hierarchical indexing in Pandas?**\n",
        "\n",
        "* Hierarchical indexing (also known as multi-level indexing) in Pandas is a powerful feature that allows you to work with higher-dimensional data in a 2D DataFrame or Series.\n",
        "* **Key Benefits and Significance:**\n",
        "1. Multi-dimensional Data in 2D Structures:\n",
        "\n",
        "* It enables storing and manipulating multi-dimensional data (like panel data or time-series data with multiple keys) using only the 2D DataFrame and 1D Series structures.\n",
        "\n",
        "2. Improved Data Organization:\n",
        "\n",
        "* Hierarchical indexes allow grouping related data naturally. For example, you can represent data by Country -> City or Year -> Quarter.\n",
        "\n",
        "3. Flexible Data Selection:\n",
        "\n",
        "* You can easily slice and dice the data using multiple keys, making subsetting more powerful.\n",
        "\n",
        "      df.loc[('USA', 'New York')]\n",
        "\n",
        "4. GroupBy and Aggregation Support:\n",
        "\n",
        "* Multi-level indexes are well-integrated with Pandas’ groupby() and aggregation methods for analyzing complex datasets.\n",
        "\n",
        "5. Pivoting and Reshaping:\n",
        "\n",
        "* It facilitates reshaping data (e.g., using stack(), unstack(), and swaplevel()), which is essential for transforming data for visualization or analysis.\n",
        "\n",
        "6. Handling Time-Series Data:\n",
        "\n",
        "* Commonly used in multi-indexed time-series data, like having different stock prices over multiple dates and companies.\n",
        "\n",
        "* Example:\n",
        "\n",
        "      import pandas as pd\n",
        "      import numpy as np\n",
        "\n",
        "      arrays = [\n",
        "          ['USA', 'USA', 'Canada', 'Canada'],\n",
        "          ['New York', 'Chicago', 'Toronto', 'Vancouver']\n",
        "      ]\n",
        "      index = pd.MultiIndex.from_arrays(arrays, names=('Country', 'City'))\n",
        "      data = pd.Series([100, 200, 150, 175], index=index)\n",
        "\n",
        "      print(data)\n"
      ],
      "metadata": {
        "id": "B8MRzq4sMDv5"
      }
    },
    {
      "cell_type": "markdown",
      "source": [
        "**Q11. What is the role of Seaborn’s pairplot() function?**\n",
        "\n",
        "* **Key Roles of pairplot():**\n",
        "1. Visualize Relationships Between Variables:\n",
        "\n",
        "* It helps identify correlations, clusters, and outliers by plotting every variable against every other variable.\n",
        "\n",
        "2. **Distribution Analysis:**\n",
        "\n",
        "* The diagonal plots show the univariate distribution of each variable (histogram or KDE by default).\n",
        "\n",
        "3. **Category Comparison:**\n",
        "\n",
        "* Using the hue parameter, you can color points based on a categorical variable, making it easy to compare relationships across different groups.\n",
        "\n",
        "4. **Quick Overview of Dataset:**\n",
        "\n",
        "* pairplot() provides a fast and intuitive overview of how variables interact, useful before building models.\n",
        "* Example:\n",
        "\n",
        "      import seaborn as sns\n",
        "      import matplotlib.pyplot as plt\n",
        "\n",
        "     # Load sample dataset\n",
        "      iris = sns.load_dataset('iris')\n",
        "\n",
        "     # Create pairplot\n",
        "      sns.pairplot(iris, hue='species')\n",
        "\n",
        "      plt.show()"
      ],
      "metadata": {
        "id": "NSjFzYci0BDm"
      }
    },
    {
      "cell_type": "markdown",
      "source": [
        "**Q12. What is the purpose of the describe() function in Pandas?**\n",
        "\n",
        "* The purpose of the describe() function in Pandas is to generate summary statistics of the numerical (and optionally categorical) columns in a DataFrame or Series.\n",
        "\n",
        "* Key Roles of describe():\n",
        "1. **Quick Overview of Data:**\n",
        "* It provides a fast and convenient way to understand the distribution and spread of your data.\n",
        "\n",
        "2. **Default Output (for numeric columns):**\n",
        "* It includes:\n",
        "\n",
        " * count: Number of non-null values\n",
        "\n",
        " * mean: Average value\n",
        "\n",
        " * std: Standard deviation\n",
        "\n",
        " * min: Minimum value\n",
        "\n",
        " * 25%: First quartile (Q1)\n",
        "\n",
        " * 50%: Median (Q2)\n",
        "\n",
        " * 75%: Third quartile (Q3)\n",
        "\n",
        " * max: Maximum value\n",
        "\n",
        "3. **Categorical Support:**\n",
        "* If you use describe(include='object') or include='all', it will also summarize non-numeric (categorical) columns:\n",
        "\n",
        " * count: Number of non-null entries\n",
        "\n",
        " * unique: Number of unique values\n",
        "\n",
        " * top: Most frequent value\n",
        "\n",
        " * freq: Frequency of the most frequent value\n",
        "* Example:\n",
        "\n",
        "      import pandas as pd\n",
        "\n",
        "      df = pd.read_csv(\"data.csv\")\n",
        "      print(df.describe())\n",
        "\n"
      ],
      "metadata": {
        "id": "Cdtvb-Cv1LtP"
      }
    },
    {
      "cell_type": "markdown",
      "source": [
        "**Q13. Why is handling missing data important in Pandas?**\n",
        "\n",
        "\n",
        "* Handling missing data in Pandas is important for several key reasons:\n",
        "\n",
        "1. Data Integrity and Accuracy\n",
        "Missing values can distort the results of data analysis or machine learning models. For example:\n",
        "\n",
        "  * Calculating the mean or median with missing data can produce incorrect results.\n",
        "\n",
        "  * Predictive models might fail or generate misleading predictions.\n",
        "\n",
        "2. Error Prevention\n",
        "Many functions in Pandas or libraries like Scikit-learn don't handle missing values by default and may throw errors or produce invalid outputs if NaN values are present.\n",
        "\n",
        "3. Ensures Consistency\n",
        "Having a consistent dataset with no or properly handled missing values makes the data easier to clean, transform, and analyze.\n",
        "\n",
        "4. Improves Model Performance\n",
        "In machine learning, handling missing values (e.g., imputing, removing, or using algorithms that support missing values) is crucial to:\n",
        "\n",
        "  * Prevent bias.\n",
        "\n",
        "  * Enhance predictive power.\n",
        "\n",
        "   * Avoid overfitting or underfitting.\n",
        "\n",
        "5. Allows Informed Decisions\n",
        "Understanding the pattern and nature of missing data (Missing Completely at Random, Missing at Random, Not Missing at Random) helps in deciding the best strategy to deal with them, which is critical for making sound analytical decisions."
      ],
      "metadata": {
        "id": "8Irdo0N_5Vzu"
      }
    },
    {
      "cell_type": "markdown",
      "source": [
        "**Q14. What are the benefits of using Plotly for data visualization?**\n",
        "\n",
        "* **Here are the key Benefits of Using Plotly:**\n",
        "1. **Interactivity**\n",
        "  * Plotly charts are interactive by default.\n",
        "\n",
        "  * Features like zoom, pan, hover tooltips, and clickable legends make it easier to explore data.\n",
        "\n",
        "2. **High-Quality Visuals**\n",
        " * Produces publication-ready and aesthetically pleasing graphics.\n",
        "\n",
        "  * Supports a wide range of chart types like scatter plots, bar charts, line charts, pie charts, heatmaps, 3D plots, etc.\n",
        "\n",
        "3. **Wide Range of Chart Types**\n",
        "* Beyond basic charts, Plotly supports advanced visualizations such as:\n",
        "\n",
        " *  3D plots\n",
        "\n",
        " * Choropleth maps\n",
        "\n",
        "  * Sankey diagrams\n",
        "\n",
        "  * Time series charts\n",
        "\n",
        "4. **Ease of Use**\n",
        "  * Simple and intuitive API for creating complex charts with minimal code.\n",
        "\n",
        "  * Integrates easily with pandas for quick data plotting.\n",
        "\n",
        "5. **Cross-Language Support**\n",
        "  * Available in Python, R, Julia, and JavaScript (via plotly.js).\n",
        "\n",
        "  * Facilitates team collaboration across different programming environments.\n",
        "\n",
        "6. **Dash Integration**\n",
        "  * Can be used with Dash, a framework by Plotly for building web-based analytical applications using pure Python.\n",
        "\n",
        "7. **Export Options**\n",
        "    \n",
        "   *   Plots can be saved as static images (PNG, JPEG, PDF, SVG) or HTML files that preserve interactivity.\n",
        "\n",
        "   * Useful for embedding in web pages or sharing interactive reports.\n",
        "\n",
        "8. **Open Source and Extensible**\n",
        "  * The core library is open source.\n",
        "\n",
        "  * Can be extended or integrated with other libraries like Seaborn, Matplotlib, or Dash."
      ],
      "metadata": {
        "id": "7bneezn8LhJ6"
      }
    },
    {
      "cell_type": "markdown",
      "source": [
        "**Q15. How does NumPy handle multidimensional arrays?**\n",
        "\n",
        "* Here's a breakdown of how NumPy efficiently manages multidimensional data:\n",
        "\n",
        "1. **Creation of Multidimensional Arrays**\n",
        "* You can create arrays with any number of dimensions using functions like:\n",
        "\n",
        "      import numpy as np\n",
        "\n",
        "      # 2D array\n",
        "      a = np.array([[1, 2], [3, 4]])\n",
        "\n",
        "      # 3D array\n",
        "      b = np.array([[[1, 2], [3, 4]], [[5, 6], [7, 8]]])\n",
        "\n",
        "2. **Shape and Dimensionality**\n",
        "  * NumPy keeps track of:\n",
        "\n",
        "   * array.shape: A tuple showing the size in each dimension.\n",
        "\n",
        "  * array.ndim: Number of dimensions.\n",
        "\n",
        "  * array.size: Total number of elements.\n",
        "\n",
        "         array_3d.shape   # (2, 2, 2)\n",
        "         array_3d.ndim    # 3\n",
        "         array_3d.size    # 8\n",
        "\n",
        "3. **Indexing and Slicing**\n",
        "* Multidimensional arrays can be indexed and sliced just like 1D arrays, but with more levels:\n",
        "\n",
        "      print(a[1, 0])  # Element at row 1, column 0\n",
        "      print(b[0, 1, 1])  # From the first 2D matrix, second row, second column\n",
        "\n",
        "4. **Broadcasting**\n",
        "* NumPy applies operations to arrays of different shapes using broadcasting, which automatically expands smaller arrays to match the shape of larger ones (where possible):\n",
        "\n",
        "      a = np.array([[1, 2], [3, 4]])\n",
        "      b = np.array([10, 20])\n",
        "      print(a + b)  # b is broadcast across each row\n",
        "\n",
        "5. Efficient Operations\n",
        "* All operations on ndarray objects (addition, multiplication, matrix operations) are optimized and vectorized, making them much faster than native Python loops.\n",
        "\n",
        "6. Reshaping and Transposing\n",
        "* NumPy allows you to change the shape or layout of arrays without copying data:\n",
        "\n",
        "      a = np.arange(6).reshape((2, 3))  # Reshape 1D to 2D\n",
        "      b = a.T  # Transpose (swap rows and columns)\n",
        "\n",
        "\n"
      ],
      "metadata": {
        "id": "L0p8_mfQPDre"
      }
    },
    {
      "cell_type": "markdown",
      "source": [
        "**Q16. What is the role of Bokeh in data visualization?**\n",
        "\n",
        "* Bokeh is a powerful Python library specifically designed for creating interactive and highly customizable visualizations for modern web browsers.\n",
        "* Here's a breakdown of its role and strengths in data visualization:\n",
        "\n",
        "1. **Create Interactive Plots**\n",
        " * Bokeh supports tools like zooming, panning, hovering, and filtering.\n",
        "\n",
        " * Users can interact with plots directly in their browser without writing JavaScript.\n",
        "\n",
        "2. **Build Web-Ready Visualizations**\n",
        "  * Bokeh outputs visualizations as HTML files or embeds them directly in web apps.\n",
        "\n",
        "  * It's ideal for dashboards and live data applications.\n",
        "\n",
        "3. **Handle Large and Streaming Data**\n",
        "  * With Bokeh Server, it can stream and update data in real time.\n",
        "\n",
        "  * Efficiently handles large datasets through WebGL and server-side processing.\n",
        "\n",
        "4. **Integrate with Other Tools**\n",
        "  * Bokeh works well with Pandas, NumPy, and Jupyter Notebooks.\n",
        "\n",
        "  * It can also be integrated with Flask, Django, and other web frameworks for interactive dashboards.\n",
        "\n",
        "5. **Create Complex Layouts**\n",
        "  * Users can combine multiple plots, widgets, and layouts to form complex dashboards.\n",
        "\n",
        "  * Supports linking between plots for coordinated interactions."
      ],
      "metadata": {
        "id": "gdUP55VgalJi"
      }
    },
    {
      "cell_type": "markdown",
      "source": [
        "**Q17. Explain the difference between apply() and map() in Pandas?**\n",
        "\n",
        "\n",
        "* . **map()** — Element-wise Operation (Series Only)\n",
        " * Works only on Series (i.e., a single column).\n",
        "\n",
        " * Applies a function element by element.\n",
        "\n",
        " * Often used for simple transformations or value mapping.\n",
        "\n",
        "* **Use Cases:**\n",
        " * Replace or transform individual values.\n",
        "\n",
        " * Apply a dictionary or function to map values.\n",
        "*  Example:\n",
        "       import pandas as pd\n",
        "\n",
        "       s = pd.Series([1, 2, 3])\n",
        "\n",
        "      # Apply a lambda to each element\n",
        "       s.map(lambda x: x * 10)  # → [10, 20, 30]\n",
        "\n",
        "      # Map values using a dictionary\n",
        "       s.map({1: 'A', 2: 'B', 3: 'C'})  # → ['A', 'B', 'C']\n",
        "2. **apply()** — Row/Column-wise Operation (Series or DataFrame)\n",
        " * Works on both Series and DataFrames.\n",
        "\n",
        "  * In Series, similar to map(), but more flexible.\n",
        "\n",
        " * In DataFrames, you can apply a function row-wise (axis=1) or column-wise (axis=0).\n",
        "\n",
        "* **Use Cases:**\n",
        " * Apply custom functions across rows or columns.\n",
        "\n",
        " * Perform row-level operations involving multiple columns.\n",
        "\n",
        " * Example:\n",
        "\n",
        "        df = pd.DataFrame({\n",
        "           'A': [1, 2],\n",
        "           'B': [10, 20]\n",
        "        })\n",
        "\n",
        "      # Apply a function to each column\n",
        "        df.apply(lambda x: x.max() - x.min(), axis=0)  # → column-wise range\n",
        "\n",
        "       # Apply a function to each row\n",
        "        df.apply(lambda row: row['A'] + row['B'], axis=1)  # → row-wise sum\n",
        "\n"
      ],
      "metadata": {
        "id": "dJFdShk1e9EJ"
      }
    },
    {
      "cell_type": "markdown",
      "source": [
        "**Q18. What are some advanced features of NumPy?**\n",
        "\n",
        "*  NumPy is a fundamental library for numerical computing in Python, and it offers several advanced features that go beyond basic array manipulation.\n",
        "1. **Broadcasting**\n",
        "* Broadcasting allows NumPy to perform element-wise operations on arrays of different shapes without explicitly reshaping them. It automatically \"broadcasts\" smaller arrays to match the shape of larger ones.\n",
        "\n",
        "* Example:\n",
        "\n",
        "      import numpy as np\n",
        "      a = np.array([1, 2, 3])\n",
        "      b = np.array([10])\n",
        "      result = a + b  # Broadcasting happens here\n",
        "      print(result)  # Output: [11 12 13]\n",
        "\n",
        "* Use case: Efficiently perform operations between arrays of different shapes.\n",
        "2. **Fancy Indexing**\n",
        "* Fancy indexing allows you to index arrays using other arrays or lists of indices, which enables complex data selections.\n",
        "* Example:\n",
        "\n",
        "      arr = np.array([1, 2, 3, 4, 5])\n",
        "      indices = [0, 2, 4]\n",
        "      print(arr[indices])  # Output: [1 3 5]\n",
        "\n",
        "* Use case: Selecting non-contiguous elements or creating complex subarrays.\n",
        "\n",
        "3. **Vectorization**\n",
        "* NumPy allows you to vectorize operations, meaning you can apply operations on entire arrays without using explicit for loops. This improves performance by leveraging NumPy's optimized C-backend.\n",
        "\n",
        "* Example:\n",
        "\n",
        "      x = np.array([1, 2, 3, 4])\n",
        "      y = np.array([5, 6, 7, 8])\n",
        "      result = x * y  # Element-wise multiplication\n",
        "      print(result)  # Output: [ 5 12 21 32]\n",
        "\n",
        "* Use case: Efficiently perform mathematical operations without writing loops.\n",
        "\n",
        "4. **Universal Functions (ufuncs)**\n",
        "* ufuncs (universal functions) are functions that operate element-wise on arrays, supporting a wide range of operations. These are optimized functions that apply to arrays in a very efficient manner.\n",
        "\n",
        "* Example:\n",
        "\n",
        "      arr = np.array([1, 4, 9])\n",
        "      np.sqrt(arr)  # Element-wise square root\n",
        "     # Output: [1. 2. 3.]\n",
        "*  Use case: Perform fast element-wise operations (e.g., trigonometric, logarithmic, and arithmetic functions).\n",
        "\n",
        "5. **Advanced Linear Algebra**\n",
        "* NumPy provides a suite of advanced linear algebra functions, like matrix multiplication, eigenvalue decomposition, and solving linear systems.\n",
        "\n",
        "* Example:\n",
        "\n",
        "      a = np.array([[1, 2], [3, 4]])\n",
        "      b = np.array([[5, 6], [7, 8]])\n",
        "      np.matmul(a, b)  # Matrix multiplication\n",
        "     # Output: [[19 22]\n",
        "     #          [43 50]]\n",
        "* Use case: Working with matrices, solving systems of equations, and performing matrix factorizations.\n",
        "\n",
        "6. **Random Module (np.random)**\n",
        "* NumPy includes a powerful random module for generating random numbers, drawing from distributions (e.g., normal, uniform, binomial), and performing random sampling.\n",
        "\n",
        "* Example:\n",
        "\n",
        "\n",
        "      np.random.seed(42)  # Set seed for reproducibility\n",
        "      random_numbers = np.random.randn(3, 2)  # Random numbers from normal distribution\n",
        "      print(random_numbers)\n",
        "* Use case: Simulations, statistical sampling, and generating random datasets.\n",
        "\n",
        "7. **Strided Arrays and Memory Views**\n",
        "* NumPy allows you to create strided views of arrays, which provide a way to look at the same data in different formats or shapes without copying data.\n",
        "\n",
        "* This is efficient and helps with working with large datasets without unnecessary memory overhead.\n",
        "\n",
        "* Example:\n",
        "\n",
        "      arr = np.arange(16).reshape(4, 4)\n",
        "      subview = arr[::2, ::2]  # Strided array with step of 2\n",
        "      print(subview)\n",
        "     # Output:\n",
        "     # [[ 0  2]\n",
        "     #  [ 8 10]]\n",
        "* Use case: Memory-efficient manipulation and reshaping of large datasets.\n",
        "\n",
        "8. **Masked Arrays**\n",
        "* Masked arrays are used to handle missing or invalid data in NumPy arrays, where a \"mask\" is applied to indicate which elements should be considered or ignored.\n",
        "\n",
        "* Example:\n",
        "\n",
        "      import numpy.ma as ma\n",
        "      arr = np.array([1, 2, 3, 4, 5])\n",
        "      masked_arr = ma.masked_array(arr, mask=[0, 0, 1, 0, 0])\n",
        "      print(masked_arr)  # Output: [1 2 -- 4 5]\n",
        "* Use case: Working with datasets that have missing or invalid values, such as in scientific or financial computations.\n",
        "\n",
        "9. **Memory Layouts (C-order vs Fortran-order)**\n",
        "* You can control how NumPy arrays are stored in memory using C-order (row-major) or Fortran-order (column-major) layouts.\n",
        "\n",
        "* This can affect performance in certain numerical computations, especially when interfacing with external libraries.\n",
        "\n",
        "* Example:\n",
        "\n",
        "      arr_c = np.array([[1, 2], [3, 4]], order='C')  # Row-major\n",
        "      arr_f = np.array([[1, 2], [3, 4]], order='F')  # Column-major\n",
        "* Use case: Optimizing memory access patterns in numerical algorithms.\n",
        "\n",
        "10. **NumPy's dtype (Data Type Objects)**\n",
        "* You can define custom data types for arrays in NumPy, allowing you to handle structured data more effectively.\n",
        "\n",
        "* Example:\n",
        "\n",
        "      dtype = np.dtype([('name', 'S10'), ('age', 'i4')])\n",
        "      arr = np.array([('Alice', 25), ('Bob', 30)], dtype=dtype)\n",
        "      print(arr)\n",
        "* Use case: Working with structured or heterogeneous data.\n"
      ],
      "metadata": {
        "id": "1f_lXascjRKN"
      }
    },
    {
      "cell_type": "markdown",
      "source": [
        "**Q19. How does Pandas simplify time series analysis?**\n",
        "\n",
        "\n",
        "* Here's how Pandas makes time series analysis easier and more efficient:\n",
        "\n",
        "1. **Datetime Indexing**\n",
        "* Pandas allows easy conversion of strings to datetime objects using pd.to_datetime().\n",
        "\n",
        "* Time series data can be indexed with DatetimeIndex, enabling intuitive slicing and selection using dates.\n",
        "\n",
        "* Example:\n",
        "\n",
        "      df = df.set_index(pd.to_datetime(df['date']))\n",
        "      df['2022-01']  # Selects data from January 2022\n",
        "\n",
        "2. **Resampling**\n",
        "* Easily aggregate data over different time frequencies (e.g., daily to monthly) using .resample().\n",
        "\n",
        "* Example:\n",
        "      df.resample('M').mean()  # Resample to monthly frequency and compute mean\n",
        "3. **Date Range Generation**\n",
        "* pd.date_range() generates sequences of dates for creating or filling in time-based data.\n",
        "\n",
        "* Example:\n",
        "      pd.date_range(start='2022-01-01', periods=10, freq='D')\n",
        "4. **Frequency and Time Offsets**\n",
        "* Built-in support for time frequencies (e.g., D, M, H) and date offsets (e.g., business days, month ends).\n",
        "\n",
        "5. **Rolling and Expanding Windows**\n",
        "* Simplifies moving average and other window-based calculations with .rolling() and .expanding().\n",
        "\n",
        "* Example:\n",
        "      df['rolling_mean'] = df['value'].rolling(window=7).mean()\n",
        "6. **Time Zone Handling**\n",
        "Time zone conversion and localization are handled with .tz_localize() and .tz_convert().\n",
        "\n",
        "* Example:\n",
        "      df.index = df.index.tz_localize('UTC').tz_convert('US/Eastern')\n",
        "7. **Missing Time Data Handling**\n",
        "* asfreq() fills in missing dates in time series, optionally with NaN or a fill method.\n",
        "\n",
        "* Example:\n",
        "      df.asfreq('D', method='ffill')\n",
        "8. **Built-in Plotting**\n",
        "* Pandas supports quick plotting of time series data using .plot(), leveraging Matplotlib.\n",
        "\n",
        "* Example:\n",
        "\n",
        "      df['value'].plot()\n",
        "\n"
      ],
      "metadata": {
        "id": "_qIgp6jo568R"
      }
    },
    {
      "cell_type": "markdown",
      "source": [
        "**Q20. What is the role of a pivot table in Pandas?**\n",
        "\n",
        "* **Role of a Pivot Table in Pandas**\n",
        "1. **Data Summarization**\n",
        "* Aggregates data across one or more categorical features.\n",
        "\n",
        "* Default aggregation function is mean, but others like sum, count, min, max can be specified.\n",
        "\n",
        "* Example:\n",
        "      pd.pivot_table(df, values='sales', index='region', columns='year', aggfunc='sum')\n",
        "2. **Data Reshaping**\n",
        "* Converts long-form data into a wide-form view, making comparisons easier.\n",
        "\n",
        "* Helps in transforming repeated entries into grouped, column-based summaries.\n",
        "\n",
        "3. **Multi-Level Grouping**\n",
        "* Enables multi-indexing via index and columns parameters for deeper analysis.\n",
        "\n",
        "* Example:\n",
        "      pd.pivot_table(df, values='sales', index=['region', 'product'], columns='year')\n",
        "4. **Handling Missing Data**\n",
        "* Automatically handles missing combinations of row/column labels by filling with NaN, unless specified using fill_value.\n",
        "\n",
        "* Example:\n",
        "      pd.pivot_table(df, values='sales', index='region', columns='year', fill_value=0)\n",
        "\n",
        "      \n",
        "*  Syntax:\n",
        "       df.pivot_table(\n",
        "           values='column_to_aggregate',\n",
        "           index='row_group',\n",
        "           columns='column_group',\n",
        "           aggfunc='mean',  # or 'sum', 'count', etc.\n",
        "           fill_value=0     # optional, replaces missing values\n",
        "       )\n",
        "\n",
        "* Example:\n",
        "\n",
        "      import pandas as pd\n",
        "\n",
        "      data = {\n",
        "          'Department': ['HR', 'HR', 'IT', 'IT', 'Finance', 'Finance'],\n",
        "          'Employee': ['Alice', 'Bob', 'Charlie', 'David', 'Eva', 'Frank'],\n",
        "          'Salary': [50000, 55000, 60000, 62000, 70000, 72000]\n",
        "      }\n",
        "\n",
        "      df = pd.DataFrame(data)\n",
        "\n",
        "      pivot = df.pivot_table(values='Salary', index='Department', aggfunc='mean')\n",
        "      print(pivot)\n"
      ],
      "metadata": {
        "id": "k8h5w7dwlx6u"
      }
    },
    {
      "cell_type": "markdown",
      "source": [
        "**Q21. Why is NumPy’s array slicing faster than Python’s list slicing?**\n",
        "\n",
        "* NumPy's array slicing is faster than Python’s list slicing primarily because of how data is stored and accessed in memory. Here are the key reasons:\n",
        "1. **Contiguous Block of Memory**\n",
        "  * NumPy arrays are stored in contiguous blocks of memory, similar to C arrays. This makes it very efficient to access and manipulate slices without copying data.\n",
        "\n",
        "  * Python lists, on the other hand, are arrays of pointers to objects (which can be scattered in memory). This leads to extra indirection and slower access.\n",
        "\n",
        "2. **Homogeneous Data Types**\n",
        "  * NumPy arrays store elements of the same data type, allowing for vectorized operations and optimized low-level implementations.\n",
        "\n",
        "  * Python lists can store mixed data types, which prevents such low-level optimization.\n",
        "\n",
        "3. **Slicing in NumPy Returns a View, Not a Copy**\n",
        "  * A slice of a NumPy array returns a view (i.e., it references the original data without copying it). This is very fast and memory efficient.\n",
        "\n",
        "  * Slicing a Python list creates a new list with copied references to the original elements. This takes more time and memory.\n",
        "\n",
        "4. **Vectorized Implementation in C**\n",
        "  * NumPy is built on top of highly optimized C and Fortran libraries. Its operations (like slicing, broadcasting, etc.) are implemented at a low level.\n",
        "\n",
        "  * Python list operations are handled at the interpreter level, which is much slower.\n",
        "\n",
        "\n"
      ],
      "metadata": {
        "id": "GGPR06uVvMMX"
      }
    },
    {
      "cell_type": "markdown",
      "source": [
        "**Q22. What are some common use cases for Seaborn?**\n",
        "\n",
        "* Seaborn is a powerful Python data visualization library built on top of Matplotlib and tightly integrated with pandas. It’s designed to make it easier to create attractive and informative statistical graphics.\n",
        "* Here are some common use cases for Seaborn:\n",
        "\n",
        "1. **Exploratory Data Analysis (EDA)**\n",
        "* Seaborn makes it easy to quickly understand distributions, relationships, and patterns in your data.\n",
        "\n",
        "* Example:\n",
        "\n",
        "      sns.pairplot(df)\n",
        "* This gives pairwise scatter plots and histograms for all variables in a dataset.\n",
        "\n",
        "2. **Visualizing Distributions**\n",
        "* For understanding the distribution of a single variable or comparing distributions:\n",
        "\n",
        "   *  sns.histplot() – Histogram\n",
        "\n",
        "  * sns.kdeplot() – Kernel density estimate\n",
        "\n",
        "  * sns.boxplot() – Box plot\n",
        "\n",
        "  * sns.violinplot() – Violin plot\n",
        "\n",
        "* Example:\n",
        "      sns.boxplot(x='species', y='sepal_length', data=iris)\n",
        "3. **Examining Relationships Between Variables**\n",
        "* Seaborn excels at showing relationships between two or more variables:\n",
        "\n",
        "  * sns.scatterplot() – Scatter plot\n",
        "\n",
        "  * sns.lineplot() – Line plot\n",
        "\n",
        "  * sns.lmplot() – Linear regression with confidence intervals\n",
        "\n",
        "* Example:\n",
        "      sns.lmplot(x='age', y='salary', data=df, hue='gender')\n",
        "4. **Categorical Data Visualization**\n",
        "* Great tools to compare groups or categories:\n",
        "\n",
        "  * sns.countplot() – Count of observations in each category\n",
        "\n",
        "  * sns.barplot() – Aggregate values (e.g., mean) by category\n",
        "\n",
        " * sns.stripplot() and sns.swarmplot() – Individual observations\n",
        "\n",
        "* Example:\n",
        "      sns.countplot(x='department', data=employee_data)\n",
        "5. **Correlation and Heatmaps**\n",
        "* Easily visualize correlation matrices or other tabular data:\n",
        "\n",
        "* Example:\n",
        "      sns.heatmap(df.corr(), annot=True, cmap='coolwarm')\n",
        "6. **Faceted Plots (Multi-plot Grids)**\n",
        "* Quickly create a grid of plots for subsets of your data:\n",
        "\n",
        "   * sns.FacetGrid() and sns.catplot() make it easy.\n",
        "\n",
        "* Example:\n",
        "      g = sns.FacetGrid(df, col='gender')\n",
        "      g.map(sns.histplot, 'age')\n",
        "7. **Regression and Statistical Modeling Visualizations**\n",
        "* Visualizing regression fits and trends:\n",
        "\n",
        "* Example:\n",
        "      sns.regplot(x='hours_studied', y='exam_score', data=students)\n",
        "8. **Time Series Visualization**\n",
        "* Use sns.lineplot() for visualizing trends over time.\n",
        "\n",
        "* Example:\n",
        "      sns.lineplot(x='date', y='sales', data=monthly_data)\n",
        "\n"
      ],
      "metadata": {
        "id": "nRlI-Ylgx4rw"
      }
    },
    {
      "cell_type": "markdown",
      "source": [
        "## **Practical**"
      ],
      "metadata": {
        "id": "XwHVwiJGnvvs"
      }
    },
    {
      "cell_type": "code",
      "source": [
        "# Q1. How do you create a 2D NumPy array and calculate the sum of each row?\n",
        "\n",
        "import numpy as np\n",
        "\n",
        "# Step 1: Create a 2D NumPy array\n",
        "array_2d = np.array([[1, 2, 3],\n",
        "                     [4, 5, 6],\n",
        "                     [7, 8, 9]])\n",
        "\n",
        "# Step 2: Calculate the sum of each row\n",
        "row_sums = np.sum(array_2d, axis=1)\n",
        "\n",
        "# Step 3: Print the results\n",
        "print(\"2D Array:\")\n",
        "print(array_2d)\n",
        "\n",
        "print(\"\\nSum of each row:\")\n",
        "print(row_sums)\n"
      ],
      "metadata": {
        "colab": {
          "base_uri": "https://localhost:8080/"
        },
        "id": "1ohERhC5AkWt",
        "outputId": "babfa983-7c12-4892-e520-d46547d2b7fe"
      },
      "execution_count": 10,
      "outputs": [
        {
          "output_type": "stream",
          "name": "stdout",
          "text": [
            "2D Array:\n",
            "[[1 2 3]\n",
            " [4 5 6]\n",
            " [7 8 9]]\n",
            "\n",
            "Sum of each row:\n",
            "[ 6 15 24]\n"
          ]
        }
      ]
    },
    {
      "cell_type": "code",
      "source": [
        "# Q2. Write a Pandas script to find the mean of a specific column in a DataFrame?\n",
        "\n",
        "# Here's a simple Pandas script to find the mean of a specific column in a DataFrame.\n",
        "# Example Script\n",
        "\n",
        "import pandas as pd\n",
        "\n",
        "# Sample DataFrame\n",
        "data = {\n",
        "    'Name': ['Alice', 'Bob', 'Charlie', 'David'],\n",
        "    'Age': [25, 30, 35, 40],\n",
        "    'Salary': [50000, 60000, 70000, 80000]\n",
        "}\n",
        "\n",
        "df = pd.DataFrame(data)\n",
        "\n",
        "# Calculate the mean of the 'Salary' column\n",
        "salary_mean = df['Salary'].mean()\n",
        "\n",
        "print(\"Mean Salary:\", salary_mean)\n"
      ],
      "metadata": {
        "colab": {
          "base_uri": "https://localhost:8080/"
        },
        "id": "QuOV-nSg-YJ6",
        "outputId": "904dfcc3-27b2-4c8b-ff4a-17c6dcb80873"
      },
      "execution_count": 3,
      "outputs": [
        {
          "output_type": "stream",
          "name": "stdout",
          "text": [
            "Mean Salary: 65000.0\n"
          ]
        }
      ]
    },
    {
      "cell_type": "code",
      "source": [
        "# Q3. Create a scatter plot using Matplotlib?\n",
        "import matplotlib.pyplot as plt\n",
        "\n",
        "# Sample data\n",
        "x = [1, 2, 3, 4, 5]\n",
        "y = [10, 15, 13, 18, 16]\n",
        "\n",
        "# Create a scatter plot\n",
        "plt.scatter(x, y, color='blue', marker='o')\n",
        "\n",
        "# Add labels and title\n",
        "plt.xlabel('X-axis Label')\n",
        "plt.ylabel('Y-axis Label')\n",
        "plt.title('Simple Scatter Plot')\n",
        "\n",
        "# Show the plot\n",
        "plt.show()\n"
      ],
      "metadata": {
        "colab": {
          "base_uri": "https://localhost:8080/",
          "height": 472
        },
        "id": "UdYcVkhr-fkV",
        "outputId": "d8435dbe-d48c-42bf-ce7f-ed2f4eb4af53"
      },
      "execution_count": 4,
      "outputs": [
        {
          "output_type": "display_data",
          "data": {
            "text/plain": [
              "<Figure size 640x480 with 1 Axes>"
            ],
            "image/png": "[encoded data removed]"
          },
          "metadata": {}
        }
      ]
    },
    {
      "cell_type": "code",
      "source": [
        "# Q4. How do you calculate the correlation matrix using Seaborn and visualize it with a heatmap?\n",
        "\n",
        "import pandas as pd\n",
        "import seaborn as sns\n",
        "import matplotlib.pyplot as plt\n",
        "\n",
        "# Create a sample DataFrame\n",
        "data = {\n",
        "    'A': [1, 2, 3, 4, 5],\n",
        "    'B': [5, 4, 3, 2, 1],\n",
        "    'C': [2, 3, 4, 5, 6]\n",
        "}\n",
        "\n",
        "df = pd.DataFrame(data)\n",
        "\n",
        "# Calculate the correlation matrix\n",
        "corr_matrix = df.corr()\n",
        "\n",
        "# Visualize the correlation matrix using a heatmap\n",
        "sns.heatmap(corr_matrix, annot=True, cmap='coolwarm', linewidths=0.5)\n",
        "\n",
        "# Add title\n",
        "plt.title('Correlation Matrix Heatmap')\n",
        "\n",
        "# Show the plot\n",
        "plt.show()\n",
        "\n"
      ],
      "metadata": {
        "colab": {
          "base_uri": "https://localhost:8080/",
          "height": 452
        },
        "id": "-SV64K4R_FlR",
        "outputId": "369d4aff-40a6-4aeb-cf6a-05dd06084b33"
      },
      "execution_count": 6,
      "outputs": [
        {
          "output_type": "display_data",
          "data": {
            "text/plain": [
              "<Figure size 640x480 with 2 Axes>"
            ],
            "image/png": "[encoded data removed]"
          },
          "metadata": {}
        }
      ]
    },
    {
      "cell_type": "code",
      "source": [
        "#Q5. Generate a bar plot using Plotly?\n",
        "\n",
        "import plotly.express as px\n",
        "\n",
        "# Sample data\n",
        "data = {\n",
        "    'Category': ['A', 'B', 'C', 'D'],\n",
        "    'Values': [23, 45, 56, 78]\n",
        "}\n",
        "\n",
        "# Create a DataFrame\n",
        "import pandas as pd\n",
        "df = pd.DataFrame(data)\n",
        "\n",
        "# Generate the bar plot\n",
        "fig = px.bar(df, x='Category', y='Values', title='Sample Bar Plot', color='Category')\n",
        "\n",
        "# Show the plot\n",
        "fig.show()\n"
      ],
      "metadata": {
        "colab": {
          "base_uri": "https://localhost:8080/",
          "height": 542
        },
        "id": "-crOqktZ_ix6",
        "outputId": "185ab5bb-2de1-4b76-8d7c-5151ddcc5876"
      },
      "execution_count": 7,
      "outputs": [
        {
          "output_type": "display_data",
          "data": {
            "text/html": [
              "<html>\n",
              "<head><meta charset=\"utf-8\" /></head>\n",
              "<body>\n",
              "    <div>            <script src=\"https://cdnjs.cloudflare.com/ajax/libs/mathjax/2.7.5/MathJax.js?config=TeX-AMS-MML_SVG\"></script><script type=\"text/javascript\">if (window.MathJax && window.MathJax.Hub && window.MathJax.Hub.Config) {window.MathJax.Hub.Config({SVG: {font: \"STIX-Web\"}});}</script>                <script type=\"text/javascript\">window.PlotlyConfig = {MathJaxConfig: 'local'};</script>\n",
              "        <script charset=\"utf-8\" src=\"https://cdn.plot.ly/plotly-2.35.2.min.js\"></script>                <div id=\"a338a9b2-5f8c-4324-ba14-90d289fa21ed\" class=\"plotly-graph-div\" style=\"height:525px; width:100%;\"></div>            <script type=\"text/javascript\">                                    window.PLOTLYENV=window.PLOTLYENV || {};                                    if (document.getElementById(\"a338a9b2-5f8c-4324-ba14-90d289fa21ed\")) {                    Plotly.newPlot(                        \"a338a9b2-5f8c-4324-ba14-90d289fa21ed\",                        [{\"alignmentgroup\":\"True\",\"hovertemplate\":\"Category=%{x}\\u003cbr\\u003eValues=%{y}\\u003cextra\\u003e\\u003c\\u002fextra\\u003e\",\"legendgroup\":\"A\",\"marker\":{\"color\":\"#636efa\",\"pattern\":{\"shape\":\"\"}},\"name\":\"A\",\"offsetgroup\":\"A\",\"orientation\":\"v\",\"showlegend\":true,\"textposition\":\"auto\",\"x\":[\"A\"],\"xaxis\":\"x\",\"y\":[23],\"yaxis\":\"y\",\"type\":\"bar\"},{\"alignmentgroup\":\"True\",\"hovertemplate\":\"Category=%{x}\\u003cbr\\u003eValues=%{y}\\u003cextra\\u003e\\u003c\\u002fextra\\u003e\",\"legendgroup\":\"B\",\"marker\":{\"color\":\"#EF553B\",\"pattern\":{\"shape\":\"\"}},\"name\":\"B\",\"offsetgroup\":\"B\",\"orientation\":\"v\",\"showlegend\":true,\"textposition\":\"auto\",\"x\":[\"B\"],\"xaxis\":\"x\",\"y\":[45],\"yaxis\":\"y\",\"type\":\"bar\"},{\"alignmentgroup\":\"True\",\"hovertemplate\":\"Category=%{x}\\u003cbr\\u003eValues=%{y}\\u003cextra\\u003e\\u003c\\u002fextra\\u003e\",\"legendgroup\":\"C\",\"marker\":{\"color\":\"#00cc96\",\"pattern\":{\"shape\":\"\"}},\"name\":\"C\",\"offsetgroup\":\"C\",\"orientation\":\"v\",\"showlegend\":true,\"textposition\":\"auto\",\"x\":[\"C\"],\"xaxis\":\"x\",\"y\":[56],\"yaxis\":\"y\",\"type\":\"bar\"},{\"alignmentgroup\":\"True\",\"hovertemplate\":\"Category=%{x}\\u003cbr\\u003eValues=%{y}\\u003cextra\\u003e\\u003c\\u002fextra\\u003e\",\"legendgroup\":\"D\",\"marker\":{\"color\":\"#ab63fa\",\"pattern\":{\"shape\":\"\"}},\"name\":\"D\",\"offsetgroup\":\"D\",\"orientation\":\"v\",\"showlegend\":true,\"textposition\":\"auto\",\"x\":[\"D\"],\"xaxis\":\"x\",\"y\":[78],\"yaxis\":\"y\",\"type\":\"bar\"}],                        {\"template\":{\"data\":{\"histogram2dcontour\":[{\"type\":\"histogram2dcontour\",\"colorbar\":{\"outlinewidth\":0,\"ticks\":\"\"},\"colorscale\":[[0.0,\"#0d0887\"],[0.1111111111111111,\"#46039f\"],[0.2222222222222222,\"#7201a8\"],[0.3333333333333333,\"#9c179e\"],[0.4444444444444444,\"#bd3786\"],[0.5555555555555556,\"#d8576b\"],[0.6666666666666666,\"#ed7953\"],[0.7777777777777778,\"#fb9f3a\"],[0.8888888888888888,\"#fdca26\"],[1.0,\"#f0f921\"]]}],\"choropleth\":[{\"type\":\"choropleth\",\"colorbar\":{\"outlinewidth\":0,\"ticks\":\"\"}}],\"histogram2d\":[{\"type\":\"histogram2d\",\"colorbar\":{\"outlinewidth\":0,\"ticks\":\"\"},\"colorscale\":[[0.0,\"#0d0887\"],[0.1111111111111111,\"#46039f\"],[0.2222222222222222,\"#7201a8\"],[0.3333333333333333,\"#9c179e\"],[0.4444444444444444,\"#bd3786\"],[0.5555555555555556,\"#d8576b\"],[0.6666666666666666,\"#ed7953\"],[0.7777777777777778,\"#fb9f3a\"],[0.8888888888888888,\"#fdca26\"],[1.0,\"#f0f921\"]]}],\"heatmap\":[{\"type\":\"heatmap\",\"colorbar\":{\"outlinewidth\":0,\"ticks\":\"\"},\"colorscale\":[[0.0,\"#0d0887\"],[0.1111111111111111,\"#46039f\"],[0.2222222222222222,\"#7201a8\"],[0.3333333333333333,\"#9c179e\"],[0.4444444444444444,\"#bd3786\"],[0.5555555555555556,\"#d8576b\"],[0.6666666666666666,\"#ed7953\"],[0.7777777777777778,\"#fb9f3a\"],[0.8888888888888888,\"#fdca26\"],[1.0,\"#f0f921\"]]}],\"heatmapgl\":[{\"type\":\"heatmapgl\",\"colorbar\":{\"outlinewidth\":0,\"ticks\":\"\"},\"colorscale\":[[0.0,\"#0d0887\"],[0.1111111111111111,\"#46039f\"],[0.2222222222222222,\"#7201a8\"],[0.3333333333333333,\"#9c179e\"],[0.4444444444444444,\"#bd3786\"],[0.5555555555555556,\"#d8576b\"],[0.6666666666666666,\"#ed7953\"],[0.7777777777777778,\"#fb9f3a\"],[0.8888888888888888,\"#fdca26\"],[1.0,\"#f0f921\"]]}],\"contourcarpet\":[{\"type\":\"contourcarpet\",\"colorbar\":{\"outlinewidth\":0,\"ticks\":\"\"}}],\"contour\":[{\"type\":\"contour\",\"colorbar\":{\"outlinewidth\":0,\"ticks\":\"\"},\"colorscale\":[[0.0,\"#0d0887\"],[0.1111111111111111,\"#46039f\"],[0.2222222222222222,\"#7201a8\"],[0.3333333333333333,\"#9c179e\"],[0.4444444444444444,\"#bd3786\"],[0.5555555555555556,\"#d8576b\"],[0.6666666666666666,\"#ed7953\"],[0.7777777777777778,\"#fb9f3a\"],[0.8888888888888888,\"#fdca26\"],[1.0,\"#f0f921\"]]}],\"surface\":[{\"type\":\"surface\",\"colorbar\":{\"outlinewidth\":0,\"ticks\":\"\"},\"colorscale\":[[0.0,\"#0d0887\"],[0.1111111111111111,\"#46039f\"],[0.2222222222222222,\"#7201a8\"],[0.3333333333333333,\"#9c179e\"],[0.4444444444444444,\"#bd3786\"],[0.5555555555555556,\"#d8576b\"],[0.6666666666666666,\"#ed7953\"],[0.7777777777777778,\"#fb9f3a\"],[0.8888888888888888,\"#fdca26\"],[1.0,\"#f0f921\"]]}],\"mesh3d\":[{\"type\":\"mesh3d\",\"colorbar\":{\"outlinewidth\":0,\"ticks\":\"\"}}],\"scatter\":[{\"fillpattern\":{\"fillmode\":\"overlay\",\"size\":10,\"solidity\":0.2},\"type\":\"scatter\"}],\"parcoords\":[{\"type\":\"parcoords\",\"line\":{\"colorbar\":{\"outlinewidth\":0,\"ticks\":\"\"}}}],\"scatterpolargl\":[{\"type\":\"scatterpolargl\",\"marker\":{\"colorbar\":{\"outlinewidth\":0,\"ticks\":\"\"}}}],\"bar\":[{\"error_x\":{\"color\":\"#2a3f5f\"},\"error_y\":{\"color\":\"#2a3f5f\"},\"marker\":{\"line\":{\"color\":\"#E5ECF6\",\"width\":0.5},\"pattern\":{\"fillmode\":\"overlay\",\"size\":10,\"solidity\":0.2}},\"type\":\"bar\"}],\"scattergeo\":[{\"type\":\"scattergeo\",\"marker\":{\"colorbar\":{\"outlinewidth\":0,\"ticks\":\"\"}}}],\"scatterpolar\":[{\"type\":\"scatterpolar\",\"marker\":{\"colorbar\":{\"outlinewidth\":0,\"ticks\":\"\"}}}],\"histogram\":[{\"marker\":{\"pattern\":{\"fillmode\":\"overlay\",\"size\":10,\"solidity\":0.2}},\"type\":\"histogram\"}],\"scattergl\":[{\"type\":\"scattergl\",\"marker\":{\"colorbar\":{\"outlinewidth\":0,\"ticks\":\"\"}}}],\"scatter3d\":[{\"type\":\"scatter3d\",\"line\":{\"colorbar\":{\"outlinewidth\":0,\"ticks\":\"\"}},\"marker\":{\"colorbar\":{\"outlinewidth\":0,\"ticks\":\"\"}}}],\"scattermapbox\":[{\"type\":\"scattermapbox\",\"marker\":{\"colorbar\":{\"outlinewidth\":0,\"ticks\":\"\"}}}],\"scatterternary\":[{\"type\":\"scatterternary\",\"marker\":{\"colorbar\":{\"outlinewidth\":0,\"ticks\":\"\"}}}],\"scattercarpet\":[{\"type\":\"scattercarpet\",\"marker\":{\"colorbar\":{\"outlinewidth\":0,\"ticks\":\"\"}}}],\"carpet\":[{\"aaxis\":{\"endlinecolor\":\"#2a3f5f\",\"gridcolor\":\"white\",\"linecolor\":\"white\",\"minorgridcolor\":\"white\",\"startlinecolor\":\"#2a3f5f\"},\"baxis\":{\"endlinecolor\":\"#2a3f5f\",\"gridcolor\":\"white\",\"linecolor\":\"white\",\"minorgridcolor\":\"white\",\"startlinecolor\":\"#2a3f5f\"},\"type\":\"carpet\"}],\"table\":[{\"cells\":{\"fill\":{\"color\":\"#EBF0F8\"},\"line\":{\"color\":\"white\"}},\"header\":{\"fill\":{\"color\":\"#C8D4E3\"},\"line\":{\"color\":\"white\"}},\"type\":\"table\"}],\"barpolar\":[{\"marker\":{\"line\":{\"color\":\"#E5ECF6\",\"width\":0.5},\"pattern\":{\"fillmode\":\"overlay\",\"size\":10,\"solidity\":0.2}},\"type\":\"barpolar\"}],\"pie\":[{\"automargin\":true,\"type\":\"pie\"}]},\"layout\":{\"autotypenumbers\":\"strict\",\"colorway\":[\"#636efa\",\"#EF553B\",\"#00cc96\",\"#ab63fa\",\"#FFA15A\",\"#19d3f3\",\"#FF6692\",\"#B6E880\",\"#FF97FF\",\"#FECB52\"],\"font\":{\"color\":\"#2a3f5f\"},\"hovermode\":\"closest\",\"hoverlabel\":{\"align\":\"left\"},\"paper_bgcolor\":\"white\",\"plot_bgcolor\":\"#E5ECF6\",\"polar\":{\"bgcolor\":\"#E5ECF6\",\"angularaxis\":{\"gridcolor\":\"white\",\"linecolor\":\"white\",\"ticks\":\"\"},\"radialaxis\":{\"gridcolor\":\"white\",\"linecolor\":\"white\",\"ticks\":\"\"}},\"ternary\":{\"bgcolor\":\"#E5ECF6\",\"aaxis\":{\"gridcolor\":\"white\",\"linecolor\":\"white\",\"ticks\":\"\"},\"baxis\":{\"gridcolor\":\"white\",\"linecolor\":\"white\",\"ticks\":\"\"},\"caxis\":{\"gridcolor\":\"white\",\"linecolor\":\"white\",\"ticks\":\"\"}},\"coloraxis\":{\"colorbar\":{\"outlinewidth\":0,\"ticks\":\"\"}},\"colorscale\":{\"sequential\":[[0.0,\"#0d0887\"],[0.1111111111111111,\"#46039f\"],[0.2222222222222222,\"#7201a8\"],[0.3333333333333333,\"#9c179e\"],[0.4444444444444444,\"#bd3786\"],[0.5555555555555556,\"#d8576b\"],[0.6666666666666666,\"#ed7953\"],[0.7777777777777778,\"#fb9f3a\"],[0.8888888888888888,\"#fdca26\"],[1.0,\"#f0f921\"]],\"sequentialminus\":[[0.0,\"#0d0887\"],[0.1111111111111111,\"#46039f\"],[0.2222222222222222,\"#7201a8\"],[0.3333333333333333,\"#9c179e\"],[0.4444444444444444,\"#bd3786\"],[0.5555555555555556,\"#d8576b\"],[0.6666666666666666,\"#ed7953\"],[0.7777777777777778,\"#fb9f3a\"],[0.8888888888888888,\"#fdca26\"],[1.0,\"#f0f921\"]],\"diverging\":[[0,\"#8e0152\"],[0.1,\"#c51b7d\"],[0.2,\"#de77ae\"],[0.3,\"#f1b6da\"],[0.4,\"#fde0ef\"],[0.5,\"#f7f7f7\"],[0.6,\"#e6f5d0\"],[0.7,\"#b8e186\"],[0.8,\"#7fbc41\"],[0.9,\"#4d9221\"],[1,\"#276419\"]]},\"xaxis\":{\"gridcolor\":\"white\",\"linecolor\":\"white\",\"ticks\":\"\",\"title\":{\"standoff\":15},\"zerolinecolor\":\"white\",\"automargin\":true,\"zerolinewidth\":2},\"yaxis\":{\"gridcolor\":\"white\",\"linecolor\":\"white\",\"ticks\":\"\",\"title\":{\"standoff\":15},\"zerolinecolor\":\"white\",\"automargin\":true,\"zerolinewidth\":2},\"scene\":{\"xaxis\":{\"backgroundcolor\":\"#E5ECF6\",\"gridcolor\":\"white\",\"linecolor\":\"white\",\"showbackground\":true,\"ticks\":\"\",\"zerolinecolor\":\"white\",\"gridwidth\":2},\"yaxis\":{\"backgroundcolor\":\"#E5ECF6\",\"gridcolor\":\"white\",\"linecolor\":\"white\",\"showbackground\":true,\"ticks\":\"\",\"zerolinecolor\":\"white\",\"gridwidth\":2},\"zaxis\":{\"backgroundcolor\":\"#E5ECF6\",\"gridcolor\":\"white\",\"linecolor\":\"white\",\"showbackground\":true,\"ticks\":\"\",\"zerolinecolor\":\"white\",\"gridwidth\":2}},\"shapedefaults\":{\"line\":{\"color\":\"#2a3f5f\"}},\"annotationdefaults\":{\"arrowcolor\":\"#2a3f5f\",\"arrowhead\":0,\"arrowwidth\":1},\"geo\":{\"bgcolor\":\"white\",\"landcolor\":\"#E5ECF6\",\"subunitcolor\":\"white\",\"showland\":true,\"showlakes\":true,\"lakecolor\":\"white\"},\"title\":{\"x\":0.05},\"mapbox\":{\"style\":\"light\"}}},\"xaxis\":{\"anchor\":\"y\",\"domain\":[0.0,1.0],\"title\":{\"text\":\"Category\"},\"categoryorder\":\"array\",\"categoryarray\":[\"A\",\"B\",\"C\",\"D\"]},\"yaxis\":{\"anchor\":\"x\",\"domain\":[0.0,1.0],\"title\":{\"text\":\"Values\"}},\"legend\":{\"title\":{\"text\":\"Category\"},\"tracegroupgap\":0},\"title\":{\"text\":\"Sample Bar Plot\"},\"barmode\":\"relative\"},                        {\"responsive\": true}                    ).then(function(){\n",
              "                            \n",
              "var gd = document.getElementById('a338a9b2-5f8c-4324-ba14-90d289fa21ed');\n",
              "var x = new MutationObserver(function (mutations, observer) {{\n",
              "        var display = window.getComputedStyle(gd).display;\n",
              "        if (!display || display === 'none') {{\n",
              "            console.log([gd, 'removed!']);\n",
              "            Plotly.purge(gd);\n",
              "            observer.disconnect();\n",
              "        }}\n",
              "}});\n",
              "\n",
              "// Listen for the removal of the full notebook cells\n",
              "var notebookContainer = gd.closest('#notebook-container');\n",
              "if (notebookContainer) {{\n",
              "    x.observe(notebookContainer, {childList: true});\n",
              "}}\n",
              "\n",
              "// Listen for the clearing of the current output cell\n",
              "var outputEl = gd.closest('.output');\n",
              "if (outputEl) {{\n",
              "    x.observe(outputEl, {childList: true});\n",
              "}}\n",
              "\n",
              "                        })                };                            </script>        </div>\n",
              "</body>\n",
              "</html>"
            ]
          },
          "metadata": {}
        }
      ]
    },
    {
      "cell_type": "code",
      "source": [
        "# Q6. Create a DataFrame and add a new column based on an existing column?\n",
        "\n",
        "import pandas as pd\n",
        "\n",
        "# Create a sample DataFrame\n",
        "data = {\n",
        "    'Name': ['Alice', 'Bob', 'Charlie'],\n",
        "    'Salary': [50000, 60000, 70000]\n",
        "}\n",
        "\n",
        "df = pd.DataFrame(data)\n",
        "\n",
        "# Add a new column 'Tax' as 10% of 'Salary'\n",
        "df['Tax'] = df['Salary'] * 0.10\n",
        "\n",
        "# Display the DataFrame\n",
        "print(df)\n"
      ],
      "metadata": {
        "colab": {
          "base_uri": "https://localhost:8080/"
        },
        "id": "kQYVrtq3_yqv",
        "outputId": "7fb63191-70af-4a34-f37b-370aa0c988a0"
      },
      "execution_count": 8,
      "outputs": [
        {
          "output_type": "stream",
          "name": "stdout",
          "text": [
            "      Name  Salary     Tax\n",
            "0    Alice   50000  5000.0\n",
            "1      Bob   60000  6000.0\n",
            "2  Charlie   70000  7000.0\n"
          ]
        }
      ]
    },
    {
      "cell_type": "code",
      "source": [
        "# Q7.Write a program to perform element-wise multiplication of two NumPy arrays?\n",
        "\n",
        "import numpy as np\n",
        "\n",
        "# Create two NumPy arrays\n",
        "array1 = np.array([1, 2, 3, 4])\n",
        "array2 = np.array([10, 20, 30, 40])\n",
        "\n",
        "# Perform element-wise multiplication\n",
        "result = array1 * array2\n",
        "\n",
        "# Display the result\n",
        "print(\"Array 1:\", array1)\n",
        "print(\"Array 2:\", array2)\n",
        "print(\"Element-wise multiplication:\", result)\n"
      ],
      "metadata": {
        "colab": {
          "base_uri": "https://localhost:8080/"
        },
        "id": "jrdoKtXRAALA",
        "outputId": "336f076c-2095-40a7-d795-8331062fdf27"
      },
      "execution_count": 9,
      "outputs": [
        {
          "output_type": "stream",
          "name": "stdout",
          "text": [
            "Array 1: [1 2 3 4]\n",
            "Array 2: [10 20 30 40]\n",
            "Element-wise multiplication: [ 10  40  90 160]\n"
          ]
        }
      ]
    },
    {
      "cell_type": "code",
      "source": [],
      "metadata": {
        "id": "n0tVjoGsAMLa"
      },
      "execution_count": null,
      "outputs": []
    },
    {
      "cell_type": "code",
      "source": [
        "# Q8.Create a line plot with multiple lines using Matplotlib?\n",
        "\n",
        "import matplotlib.pyplot as plt\n",
        "\n",
        "# Sample data for multiple lines\n",
        "x = [1, 2, 3, 4, 5]\n",
        "y1 = [1, 4, 9, 16, 25]  # First line\n",
        "y2 = [25, 20, 15, 10, 5]  # Second line\n",
        "y3 = [5, 10, 15, 20, 25]  # Third line\n",
        "\n",
        "# Create the line plot with multiple lines\n",
        "plt.plot(x, y1, label='y = x^2', color='blue', marker='o')  # Line 1\n",
        "plt.plot(x, y2, label='y = 30 - x^2', color='red', marker='x')  # Line 2\n",
        "plt.plot(x, y3, label='y = x', color='green', marker='s')  # Line 3\n",
        "\n",
        "# Add labels and title\n",
        "plt.xlabel('X Axis')\n",
        "plt.ylabel('Y Axis')\n",
        "plt.title('Line Plot with Multiple Lines')\n",
        "\n",
        "# Show legend\n",
        "plt.legend()\n",
        "\n",
        "# Display the plot\n",
        "plt.show()\n"
      ],
      "metadata": {
        "colab": {
          "base_uri": "https://localhost:8080/",
          "height": 472
        },
        "id": "3xW-Pc7mA0sZ",
        "outputId": "67726695-c3bf-4f64-abd1-17804f724762"
      },
      "execution_count": 11,
      "outputs": [
        {
          "output_type": "display_data",
          "data": {
            "text/plain": [
              "<Figure size 640x480 with 1 Axes>"
            ],
            "image/png": "[encoded data removed]"
          },
          "metadata": {}
        }
      ]
    },
    {
      "cell_type": "code",
      "source": [
        "# 9.Generate a Pandas DataFrame and filter rows where a column value is greater than a threshold?\n",
        "\n",
        "import pandas as pd\n",
        "\n",
        "# Step 1: Create a sample DataFrame\n",
        "data = {\n",
        "    'Name': ['Alice', 'Bob', 'Charlie', 'David', 'Eve'],\n",
        "    'Age': [25, 30, 35, 40, 45],\n",
        "    'Salary': [50000, 60000, 70000, 80000, 90000]\n",
        "}\n",
        "\n",
        "df = pd.DataFrame(data)\n",
        "\n",
        "# Step 2: Set a threshold for filtering (e.g., filter rows where 'Salary' > 65000)\n",
        "threshold = 65000\n",
        "\n",
        "# Step 3: Filter rows where 'Salary' > threshold\n",
        "filtered_df = df[df['Salary'] > threshold]\n",
        "\n",
        "# Step 4: Print the filtered DataFrame\n",
        "print(filtered_df)\n",
        "\n"
      ],
      "metadata": {
        "colab": {
          "base_uri": "https://localhost:8080/"
        },
        "id": "p9FwU0-oBEbj",
        "outputId": "1b3a1b8e-116f-4dea-c6fd-bf04a56ba860"
      },
      "execution_count": 12,
      "outputs": [
        {
          "output_type": "stream",
          "name": "stdout",
          "text": [
            "      Name  Age  Salary\n",
            "2  Charlie   35   70000\n",
            "3    David   40   80000\n",
            "4      Eve   45   90000\n"
          ]
        }
      ]
    },
    {
      "cell_type": "code",
      "source": [
        "# Q10.Create a histogram using Seaborn to visualize a distribution?\n",
        "\n",
        "import seaborn as sns\n",
        "import matplotlib.pyplot as plt\n",
        "\n",
        "# Sample data (e.g., random values from a normal distribution)\n",
        "import numpy as np\n",
        "data = np.random.normal(loc=0, scale=1, size=1000)  # 1000 random values from a normal distribution\n",
        "\n",
        "# Create the histogram\n",
        "sns.histplot(data, kde=True, color='blue', bins=30)\n",
        "\n",
        "# Add labels and title\n",
        "plt.xlabel('Value')\n",
        "plt.ylabel('Frequency')\n",
        "plt.title('Histogram with Distribution')\n",
        "\n",
        "# Show the plot\n",
        "plt.show()\n"
      ],
      "metadata": {
        "colab": {
          "base_uri": "https://localhost:8080/",
          "height": 472
        },
        "id": "XQk-tLA7BOjz",
        "outputId": "18a7e471-228d-4c74-d1a1-4e4e634ddc14"
      },
      "execution_count": 13,
      "outputs": [
        {
          "output_type": "display_data",
          "data": {
            "text/plain": [
              "<Figure size 640x480 with 1 Axes>"
            ],
            "image/png": "[encoded data removed]"
          },
          "metadata": {}
        }
      ]
    },
    {
      "cell_type": "code",
      "source": [
        "# Q11.Perform matrix multiplication using NumPy?\n",
        "\n",
        "import numpy as np\n",
        "\n",
        "# Define two matrices (2D arrays)\n",
        "A = np.array([[1, 2],\n",
        "              [3, 4]])\n",
        "\n",
        "B = np.array([[5, 6],\n",
        "              [7, 8]])\n",
        "\n",
        "# Perform matrix multiplication using np.dot() or the @ operator\n",
        "result = np.dot(A, B)  # You can also use: result = A @ B\n",
        "\n",
        "# Print the result\n",
        "print(\"Result of matrix multiplication:\")\n",
        "print(result)\n"
      ],
      "metadata": {
        "colab": {
          "base_uri": "https://localhost:8080/"
        },
        "id": "F197THIABnwr",
        "outputId": "4aff9680-2671-4ce9-8241-1a633a42a44f"
      },
      "execution_count": 14,
      "outputs": [
        {
          "output_type": "stream",
          "name": "stdout",
          "text": [
            "Result of matrix multiplication:\n",
            "[[19 22]\n",
            " [43 50]]\n"
          ]
        }
      ]
    },
    {
      "cell_type": "code",
      "source": [
        "# Q12.Use Pandas to load a CSV file and display its first 5 rows?\n",
        "\n",
        "import pandas as pd\n",
        "\n",
        "# Load the CSV file (replace 'your_file.csv' with the actual file name or path)\n",
        "df = pd.read_csv('your_file.csv')\n",
        "\n",
        "# Display the first 5 rows\n",
        "print(df.head())"
      ],
      "metadata": {
        "id": "dTBfBNovC4nP"
      },
      "execution_count": null,
      "outputs": []
    },
    {
      "cell_type": "code",
      "source": [
        "# Q13.Create a 3D scatter plot using Plotly.\n",
        "\n",
        "import plotly.express as px\n",
        "import pandas as pd\n",
        "import numpy as np\n",
        "\n",
        "# Generate sample data\n",
        "np.random.seed(42)\n",
        "df = pd.DataFrame({\n",
        "    'x': np.random.rand(50),\n",
        "    'y': np.random.rand(50),\n",
        "    'z': np.random.rand(50),\n",
        "    'color': np.random.rand(50)  # optional, for coloring the points\n",
        "})\n",
        "\n",
        "# Create the 3D scatter plot\n",
        "fig = px.scatter_3d(df, x='x', y='y', z='z', color='color',\n",
        "                    title='3D Scatter Plot Example')\n",
        "\n",
        "# Show the plot\n",
        "fig.show()\n"
      ],
      "metadata": {
        "colab": {
          "base_uri": "https://localhost:8080/",
          "height": 542
        },
        "id": "13n_iUdPWyrS",
        "outputId": "01522b11-af22-476b-f90c-58551334170f"
      },
      "execution_count": 3,
      "outputs": [
        {
          "output_type": "display_data",
          "data": {
            "text/html": [
              "<html>\n",
              "<head><meta charset=\"utf-8\" /></head>\n",
              "<body>\n",
              "    <div>            <script src=\"https://cdnjs.cloudflare.com/ajax/libs/mathjax/2.7.5/MathJax.js?config=TeX-AMS-MML_SVG\"></script><script type=\"text/javascript\">if (window.MathJax && window.MathJax.Hub && window.MathJax.Hub.Config) {window.MathJax.Hub.Config({SVG: {font: \"STIX-Web\"}});}</script>                <script type=\"text/javascript\">window.PlotlyConfig = {MathJaxConfig: 'local'};</script>\n",
              "        <script charset=\"utf-8\" src=\"https://cdn.plot.ly/plotly-2.35.2.min.js\"></script>                <div id=\"f3d76044-b918-4e39-ba96-663e0cdedb55\" class=\"plotly-graph-div\" style=\"height:525px; width:100%;\"></div>            <script type=\"text/javascript\">                                    window.PLOTLYENV=window.PLOTLYENV || {};                                    if (document.getElementById(\"f3d76044-b918-4e39-ba96-663e0cdedb55\")) {                    Plotly.newPlot(                        \"f3d76044-b918-4e39-ba96-663e0cdedb55\",                        [{\"hovertemplate\":\"x=%{x}\\u003cbr\\u003ey=%{y}\\u003cbr\\u003ez=%{z}\\u003cbr\\u003ecolor=%{marker.color}\\u003cextra\\u003e\\u003c\\u002fextra\\u003e\",\"legendgroup\":\"\",\"marker\":{\"color\":[0.9082658859666537,0.23956189066697242,0.1448948720912231,0.489452760277563,0.9856504541106007,0.2420552715115004,0.6721355474058786,0.7616196153287176,0.23763754399239967,0.7282163486118596,0.3677831327192532,0.6323058305935795,0.6335297107608947,0.5357746840747585,0.0902897700544083,0.835302495589238,0.32078006497173583,0.18651851039985423,0.040775141554763916,0.5908929431882418,0.6775643618422824,0.016587828927856152,0.512093058299281,0.22649577519793795,0.6451727904094499,0.17436642900499144,0.690937738102466,0.3867353463005374,0.9367299887367345,0.13752094414599325,0.3410663510502585,0.11347352124058907,0.9246936182785628,0.877339353380981,0.2579416277151556,0.659984046034179,0.8172222002012158,0.5552008115994623,0.5296505783560065,0.24185229090045168,0.09310276780589921,0.8972157579533268,0.9004180571633305,0.6331014572732679,0.3390297910487007,0.3492095746126609,0.7259556788702394,0.8971102599525771,0.8870864242651173,0.7798755458576239],\"coloraxis\":\"coloraxis\",\"symbol\":\"circle\"},\"mode\":\"markers\",\"name\":\"\",\"scene\":\"scene\",\"showlegend\":false,\"x\":[0.3745401188473625,0.9507143064099162,0.7319939418114051,0.5986584841970366,0.15601864044243652,0.15599452033620265,0.05808361216819946,0.8661761457749352,0.6011150117432088,0.7080725777960455,0.020584494295802447,0.9699098521619943,0.8324426408004217,0.21233911067827616,0.18182496720710062,0.18340450985343382,0.3042422429595377,0.5247564316322378,0.43194501864211576,0.2912291401980419,0.6118528947223795,0.13949386065204183,0.29214464853521815,0.3663618432936917,0.45606998421703593,0.7851759613930136,0.19967378215835974,0.5142344384136116,0.5924145688620425,0.046450412719997725,0.6075448519014384,0.17052412368729153,0.06505159298527952,0.9488855372533332,0.9656320330745594,0.8083973481164611,0.3046137691733707,0.09767211400638387,0.6842330265121569,0.4401524937396013,0.12203823484477883,0.4951769101112702,0.034388521115218396,0.9093204020787821,0.2587799816000169,0.662522284353982,0.31171107608941095,0.5200680211778108,0.5467102793432796,0.18485445552552704],\"y\":[0.9695846277645586,0.7751328233611146,0.9394989415641891,0.8948273504276488,0.5978999788110851,0.9218742350231168,0.0884925020519195,0.1959828624191452,0.045227288910538066,0.32533033076326434,0.388677289689482,0.2713490317738959,0.8287375091519293,0.3567533266935893,0.28093450968738076,0.5426960831582485,0.14092422497476265,0.8021969807540397,0.07455064367977082,0.9868869366005173,0.7722447692966574,0.1987156815341724,0.005522117123602399,0.8154614284548342,0.7068573438476171,0.7290071680409873,0.7712703466859457,0.07404465173409036,0.3584657285442726,0.11586905952512971,0.8631034258755935,0.6232981268275579,0.3308980248526492,0.06355835028602363,0.3109823217156622,0.32518332202674705,0.7296061783380641,0.6375574713552131,0.8872127425763265,0.4722149251619493,0.1195942459383017,0.713244787222995,0.7607850486168974,0.5612771975694962,0.770967179954561,0.49379559636439074,0.5227328293819941,0.42754101835854963,0.02541912674409519,0.10789142699330445],\"z\":[0.03142918568673425,0.6364104112637804,0.3143559810763267,0.5085706911647028,0.907566473926093,0.24929222914887494,0.41038292303562973,0.7555511385430487,0.22879816549162246,0.07697990982879299,0.289751452913768,0.16122128725400442,0.9296976523425731,0.808120379564417,0.6334037565104235,0.8714605901877177,0.8036720768991145,0.18657005888603584,0.8925589984899778,0.5393422419156507,0.8074401551640625,0.8960912999234932,0.3180034749718639,0.11005192452767676,0.22793516254194168,0.4271077886262563,0.8180147659224931,0.8607305832563434,0.006952130531190703,0.5107473025775657,0.417411003148779,0.22210781047073025,0.1198653673336828,0.33761517140362796,0.9429097039125192,0.32320293202075523,0.5187906217433661,0.7030189588951778,0.363629602379294,0.9717820827209607,0.9624472949421112,0.25178229582536416,0.49724850589238545,0.30087830981676966,0.2848404943774676,0.036886947354532795,0.6095643339798968,0.5026790232288615,0.05147875124998935,0.27864646423661144],\"type\":\"scatter3d\"}],                        {\"template\":{\"data\":{\"histogram2dcontour\":[{\"type\":\"histogram2dcontour\",\"colorbar\":{\"outlinewidth\":0,\"ticks\":\"\"},\"colorscale\":[[0.0,\"#0d0887\"],[0.1111111111111111,\"#46039f\"],[0.2222222222222222,\"#7201a8\"],[0.3333333333333333,\"#9c179e\"],[0.4444444444444444,\"#bd3786\"],[0.5555555555555556,\"#d8576b\"],[0.6666666666666666,\"#ed7953\"],[0.7777777777777778,\"#fb9f3a\"],[0.8888888888888888,\"#fdca26\"],[1.0,\"#f0f921\"]]}],\"choropleth\":[{\"type\":\"choropleth\",\"colorbar\":{\"outlinewidth\":0,\"ticks\":\"\"}}],\"histogram2d\":[{\"type\":\"histogram2d\",\"colorbar\":{\"outlinewidth\":0,\"ticks\":\"\"},\"colorscale\":[[0.0,\"#0d0887\"],[0.1111111111111111,\"#46039f\"],[0.2222222222222222,\"#7201a8\"],[0.3333333333333333,\"#9c179e\"],[0.4444444444444444,\"#bd3786\"],[0.5555555555555556,\"#d8576b\"],[0.6666666666666666,\"#ed7953\"],[0.7777777777777778,\"#fb9f3a\"],[0.8888888888888888,\"#fdca26\"],[1.0,\"#f0f921\"]]}],\"heatmap\":[{\"type\":\"heatmap\",\"colorbar\":{\"outlinewidth\":0,\"ticks\":\"\"},\"colorscale\":[[0.0,\"#0d0887\"],[0.1111111111111111,\"#46039f\"],[0.2222222222222222,\"#7201a8\"],[0.3333333333333333,\"#9c179e\"],[0.4444444444444444,\"#bd3786\"],[0.5555555555555556,\"#d8576b\"],[0.6666666666666666,\"#ed7953\"],[0.7777777777777778,\"#fb9f3a\"],[0.8888888888888888,\"#fdca26\"],[1.0,\"#f0f921\"]]}],\"heatmapgl\":[{\"type\":\"heatmapgl\",\"colorbar\":{\"outlinewidth\":0,\"ticks\":\"\"},\"colorscale\":[[0.0,\"#0d0887\"],[0.1111111111111111,\"#46039f\"],[0.2222222222222222,\"#7201a8\"],[0.3333333333333333,\"#9c179e\"],[0.4444444444444444,\"#bd3786\"],[0.5555555555555556,\"#d8576b\"],[0.6666666666666666,\"#ed7953\"],[0.7777777777777778,\"#fb9f3a\"],[0.8888888888888888,\"#fdca26\"],[1.0,\"#f0f921\"]]}],\"contourcarpet\":[{\"type\":\"contourcarpet\",\"colorbar\":{\"outlinewidth\":0,\"ticks\":\"\"}}],\"contour\":[{\"type\":\"contour\",\"colorbar\":{\"outlinewidth\":0,\"ticks\":\"\"},\"colorscale\":[[0.0,\"#0d0887\"],[0.1111111111111111,\"#46039f\"],[0.2222222222222222,\"#7201a8\"],[0.3333333333333333,\"#9c179e\"],[0.4444444444444444,\"#bd3786\"],[0.5555555555555556,\"#d8576b\"],[0.6666666666666666,\"#ed7953\"],[0.7777777777777778,\"#fb9f3a\"],[0.8888888888888888,\"#fdca26\"],[1.0,\"#f0f921\"]]}],\"surface\":[{\"type\":\"surface\",\"colorbar\":{\"outlinewidth\":0,\"ticks\":\"\"},\"colorscale\":[[0.0,\"#0d0887\"],[0.1111111111111111,\"#46039f\"],[0.2222222222222222,\"#7201a8\"],[0.3333333333333333,\"#9c179e\"],[0.4444444444444444,\"#bd3786\"],[0.5555555555555556,\"#d8576b\"],[0.6666666666666666,\"#ed7953\"],[0.7777777777777778,\"#fb9f3a\"],[0.8888888888888888,\"#fdca26\"],[1.0,\"#f0f921\"]]}],\"mesh3d\":[{\"type\":\"mesh3d\",\"colorbar\":{\"outlinewidth\":0,\"ticks\":\"\"}}],\"scatter\":[{\"fillpattern\":{\"fillmode\":\"overlay\",\"size\":10,\"solidity\":0.2},\"type\":\"scatter\"}],\"parcoords\":[{\"type\":\"parcoords\",\"line\":{\"colorbar\":{\"outlinewidth\":0,\"ticks\":\"\"}}}],\"scatterpolargl\":[{\"type\":\"scatterpolargl\",\"marker\":{\"colorbar\":{\"outlinewidth\":0,\"ticks\":\"\"}}}],\"bar\":[{\"error_x\":{\"color\":\"#2a3f5f\"},\"error_y\":{\"color\":\"#2a3f5f\"},\"marker\":{\"line\":{\"color\":\"#E5ECF6\",\"width\":0.5},\"pattern\":{\"fillmode\":\"overlay\",\"size\":10,\"solidity\":0.2}},\"type\":\"bar\"}],\"scattergeo\":[{\"type\":\"scattergeo\",\"marker\":{\"colorbar\":{\"outlinewidth\":0,\"ticks\":\"\"}}}],\"scatterpolar\":[{\"type\":\"scatterpolar\",\"marker\":{\"colorbar\":{\"outlinewidth\":0,\"ticks\":\"\"}}}],\"histogram\":[{\"marker\":{\"pattern\":{\"fillmode\":\"overlay\",\"size\":10,\"solidity\":0.2}},\"type\":\"histogram\"}],\"scattergl\":[{\"type\":\"scattergl\",\"marker\":{\"colorbar\":{\"outlinewidth\":0,\"ticks\":\"\"}}}],\"scatter3d\":[{\"type\":\"scatter3d\",\"line\":{\"colorbar\":{\"outlinewidth\":0,\"ticks\":\"\"}},\"marker\":{\"colorbar\":{\"outlinewidth\":0,\"ticks\":\"\"}}}],\"scattermapbox\":[{\"type\":\"scattermapbox\",\"marker\":{\"colorbar\":{\"outlinewidth\":0,\"ticks\":\"\"}}}],\"scatterternary\":[{\"type\":\"scatterternary\",\"marker\":{\"colorbar\":{\"outlinewidth\":0,\"ticks\":\"\"}}}],\"scattercarpet\":[{\"type\":\"scattercarpet\",\"marker\":{\"colorbar\":{\"outlinewidth\":0,\"ticks\":\"\"}}}],\"carpet\":[{\"aaxis\":{\"endlinecolor\":\"#2a3f5f\",\"gridcolor\":\"white\",\"linecolor\":\"white\",\"minorgridcolor\":\"white\",\"startlinecolor\":\"#2a3f5f\"},\"baxis\":{\"endlinecolor\":\"#2a3f5f\",\"gridcolor\":\"white\",\"linecolor\":\"white\",\"minorgridcolor\":\"white\",\"startlinecolor\":\"#2a3f5f\"},\"type\":\"carpet\"}],\"table\":[{\"cells\":{\"fill\":{\"color\":\"#EBF0F8\"},\"line\":{\"color\":\"white\"}},\"header\":{\"fill\":{\"color\":\"#C8D4E3\"},\"line\":{\"color\":\"white\"}},\"type\":\"table\"}],\"barpolar\":[{\"marker\":{\"line\":{\"color\":\"#E5ECF6\",\"width\":0.5},\"pattern\":{\"fillmode\":\"overlay\",\"size\":10,\"solidity\":0.2}},\"type\":\"barpolar\"}],\"pie\":[{\"automargin\":true,\"type\":\"pie\"}]},\"layout\":{\"autotypenumbers\":\"strict\",\"colorway\":[\"#636efa\",\"#EF553B\",\"#00cc96\",\"#ab63fa\",\"#FFA15A\",\"#19d3f3\",\"#FF6692\",\"#B6E880\",\"#FF97FF\",\"#FECB52\"],\"font\":{\"color\":\"#2a3f5f\"},\"hovermode\":\"closest\",\"hoverlabel\":{\"align\":\"left\"},\"paper_bgcolor\":\"white\",\"plot_bgcolor\":\"#E5ECF6\",\"polar\":{\"bgcolor\":\"#E5ECF6\",\"angularaxis\":{\"gridcolor\":\"white\",\"linecolor\":\"white\",\"ticks\":\"\"},\"radialaxis\":{\"gridcolor\":\"white\",\"linecolor\":\"white\",\"ticks\":\"\"}},\"ternary\":{\"bgcolor\":\"#E5ECF6\",\"aaxis\":{\"gridcolor\":\"white\",\"linecolor\":\"white\",\"ticks\":\"\"},\"baxis\":{\"gridcolor\":\"white\",\"linecolor\":\"white\",\"ticks\":\"\"},\"caxis\":{\"gridcolor\":\"white\",\"linecolor\":\"white\",\"ticks\":\"\"}},\"coloraxis\":{\"colorbar\":{\"outlinewidth\":0,\"ticks\":\"\"}},\"colorscale\":{\"sequential\":[[0.0,\"#0d0887\"],[0.1111111111111111,\"#46039f\"],[0.2222222222222222,\"#7201a8\"],[0.3333333333333333,\"#9c179e\"],[0.4444444444444444,\"#bd3786\"],[0.5555555555555556,\"#d8576b\"],[0.6666666666666666,\"#ed7953\"],[0.7777777777777778,\"#fb9f3a\"],[0.8888888888888888,\"#fdca26\"],[1.0,\"#f0f921\"]],\"sequentialminus\":[[0.0,\"#0d0887\"],[0.1111111111111111,\"#46039f\"],[0.2222222222222222,\"#7201a8\"],[0.3333333333333333,\"#9c179e\"],[0.4444444444444444,\"#bd3786\"],[0.5555555555555556,\"#d8576b\"],[0.6666666666666666,\"#ed7953\"],[0.7777777777777778,\"#fb9f3a\"],[0.8888888888888888,\"#fdca26\"],[1.0,\"#f0f921\"]],\"diverging\":[[0,\"#8e0152\"],[0.1,\"#c51b7d\"],[0.2,\"#de77ae\"],[0.3,\"#f1b6da\"],[0.4,\"#fde0ef\"],[0.5,\"#f7f7f7\"],[0.6,\"#e6f5d0\"],[0.7,\"#b8e186\"],[0.8,\"#7fbc41\"],[0.9,\"#4d9221\"],[1,\"#276419\"]]},\"xaxis\":{\"gridcolor\":\"white\",\"linecolor\":\"white\",\"ticks\":\"\",\"title\":{\"standoff\":15},\"zerolinecolor\":\"white\",\"automargin\":true,\"zerolinewidth\":2},\"yaxis\":{\"gridcolor\":\"white\",\"linecolor\":\"white\",\"ticks\":\"\",\"title\":{\"standoff\":15},\"zerolinecolor\":\"white\",\"automargin\":true,\"zerolinewidth\":2},\"scene\":{\"xaxis\":{\"backgroundcolor\":\"#E5ECF6\",\"gridcolor\":\"white\",\"linecolor\":\"white\",\"showbackground\":true,\"ticks\":\"\",\"zerolinecolor\":\"white\",\"gridwidth\":2},\"yaxis\":{\"backgroundcolor\":\"#E5ECF6\",\"gridcolor\":\"white\",\"linecolor\":\"white\",\"showbackground\":true,\"ticks\":\"\",\"zerolinecolor\":\"white\",\"gridwidth\":2},\"zaxis\":{\"backgroundcolor\":\"#E5ECF6\",\"gridcolor\":\"white\",\"linecolor\":\"white\",\"showbackground\":true,\"ticks\":\"\",\"zerolinecolor\":\"white\",\"gridwidth\":2}},\"shapedefaults\":{\"line\":{\"color\":\"#2a3f5f\"}},\"annotationdefaults\":{\"arrowcolor\":\"#2a3f5f\",\"arrowhead\":0,\"arrowwidth\":1},\"geo\":{\"bgcolor\":\"white\",\"landcolor\":\"#E5ECF6\",\"subunitcolor\":\"white\",\"showland\":true,\"showlakes\":true,\"lakecolor\":\"white\"},\"title\":{\"x\":0.05},\"mapbox\":{\"style\":\"light\"}}},\"scene\":{\"domain\":{\"x\":[0.0,1.0],\"y\":[0.0,1.0]},\"xaxis\":{\"title\":{\"text\":\"x\"}},\"yaxis\":{\"title\":{\"text\":\"y\"}},\"zaxis\":{\"title\":{\"text\":\"z\"}}},\"coloraxis\":{\"colorbar\":{\"title\":{\"text\":\"color\"}},\"colorscale\":[[0.0,\"#0d0887\"],[0.1111111111111111,\"#46039f\"],[0.2222222222222222,\"#7201a8\"],[0.3333333333333333,\"#9c179e\"],[0.4444444444444444,\"#bd3786\"],[0.5555555555555556,\"#d8576b\"],[0.6666666666666666,\"#ed7953\"],[0.7777777777777778,\"#fb9f3a\"],[0.8888888888888888,\"#fdca26\"],[1.0,\"#f0f921\"]]},\"legend\":{\"tracegroupgap\":0},\"title\":{\"text\":\"3D Scatter Plot Example\"}},                        {\"responsive\": true}                    ).then(function(){\n",
              "                            \n",
              "var gd = document.getElementById('f3d76044-b918-4e39-ba96-663e0cdedb55');\n",
              "var x = new MutationObserver(function (mutations, observer) {{\n",
              "        var display = window.getComputedStyle(gd).display;\n",
              "        if (!display || display === 'none') {{\n",
              "            console.log([gd, 'removed!']);\n",
              "            Plotly.purge(gd);\n",
              "            observer.disconnect();\n",
              "        }}\n",
              "}});\n",
              "\n",
              "// Listen for the removal of the full notebook cells\n",
              "var notebookContainer = gd.closest('#notebook-container');\n",
              "if (notebookContainer) {{\n",
              "    x.observe(notebookContainer, {childList: true});\n",
              "}}\n",
              "\n",
              "// Listen for the clearing of the current output cell\n",
              "var outputEl = gd.closest('.output');\n",
              "if (outputEl) {{\n",
              "    x.observe(outputEl, {childList: true});\n",
              "}}\n",
              "\n",
              "                        })                };                            </script>        </div>\n",
              "</body>\n",
              "</html>"
            ]
          },
          "metadata": {}
        }
      ]
    }
  ]
}